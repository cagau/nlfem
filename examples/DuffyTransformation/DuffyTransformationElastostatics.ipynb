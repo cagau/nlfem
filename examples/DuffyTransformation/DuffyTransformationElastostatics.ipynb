{
 "cells": [
  {
   "cell_type": "code",
   "execution_count": 1,
   "metadata": {},
   "outputs": [],
   "source": [
    "#import sys\n",
    "#sys.path.append(\"/home/klar/Promotion/projects/nonlocal-assembly\")"
   ]
  },
  {
   "cell_type": "markdown",
   "metadata": {},
   "source": [
    "# Setting\n",
    "\n",
    "Let $\\Omega = B_1$ and $\\Omega_I = B_{1+\\delta}\\setminus B_1$, and $\\overline{\\Omega} = \\Omega \\cup \\Omega_I$.\n",
    "We are given $n$ Ansatzfunctions\n",
    "$$\n",
    "\\Phi = (\\phi_1, \\phi_2)  \\in \\mathcal{L}(\\overline{\\Omega})^2.\n",
    "$$\n",
    "in a discretization of a 2-D Grid."
   ]
  },
  {
   "cell_type": "markdown",
   "metadata": {},
   "source": [
    "### Configuration"
   ]
  },
  {
   "cell_type": "code",
   "execution_count": 2,
   "metadata": {},
   "outputs": [],
   "source": [
    "from duffyconf import *\n",
    "import meshio\n",
    "import matplotlib.pyplot as plt\n",
    "import numpy as np"
   ]
  },
  {
   "cell_type": "code",
   "execution_count": 3,
   "metadata": {},
   "outputs": [],
   "source": [
    "mesh = meshio.read(DATA_PATH + mesh_name)"
   ]
  },
  {
   "cell_type": "markdown",
   "metadata": {},
   "source": [
    "### Ansatz function"
   ]
  },
  {
   "cell_type": "code",
   "execution_count": 4,
   "metadata": {},
   "outputs": [],
   "source": [
    "class V:\n",
    "    def __init__(self, mesh):\n",
    "        self.points = mesh.points[:,:2]\n",
    "        self.N = self.points.shape[0]\n",
    "        self.triangles = mesh.cells[1][1]\n",
    "        \n",
    "    def phi1(self, p):\n",
    "        return 1 - p[0] - p[1]\n",
    "    \n",
    "    def phi2(self, p):\n",
    "        return p[0]\n",
    "    \n",
    "    def phi3(self, p):\n",
    "        return p[1]\n",
    "    \n",
    "    def __getitem__(self, k):\n",
    "        phi = [self.phi1, self.phi2, self.phi3]\n",
    "        #n, k = index\n",
    "        return phi[k]\n",
    "    \n",
    "    def plot(self):\n",
    "        plt.scatter(self.points[:,0], self.points[:,1], s=.1)\n",
    "        plt.scatter(0,0)\n",
    "        plt.show()\n",
    "    \n",
    "class T:\n",
    "    def __init__(self, mesh):\n",
    "        self.triangles = mesh.cells[1][1]\n",
    "        self.points = mesh.points[:,:2]\n",
    "        self.N = self.triangles.shape[0]\n",
    "        self.tris = []\n",
    "        for k in range(self.N):\n",
    "            Vdx = self.triangles[k]\n",
    "            a,b,c = np.array(self.points[Vdx])\n",
    "            self.tris.append(Triangle(a,b,c))\n",
    "    def __getitem__(self, k):\n",
    "        return self.tris[k]\n",
    "    \n",
    "    def join(self, aTdx, bTdx):\n",
    "        \"\"\" This method reoders the vertices of two triangles such that \n",
    "        coinciding nodes come first. If more than one vertex coincides\n",
    "        the coinciding vertices are again ordered by index size.\n",
    "        \"\"\"\n",
    "        \n",
    "        # Read Vertex indices\n",
    "        AVdx = self.triangles[aTdx]\n",
    "        BVdx = self.triangles[bTdx]\n",
    "        # Find equal indices\n",
    "        isEqualVertex = (np.subtract.outer(AVdx, BVdx) == 0)\n",
    "        nEqual = np.sum(isEqualVertex)\n",
    "        # Reorder indices \n",
    "        # (Equal vertices first, \n",
    "        # and if there is more than one the vertices are again ordered by index size)\n",
    "        AVdx = AVdx[np.argsort(-AVdx*np.sum(isEqualVertex, axis=1))]\n",
    "        BVdx = BVdx[np.argsort(-BVdx*np.sum(isEqualVertex, axis=0))]\n",
    "        \n",
    "        #print(\"Found \", nEqual, \"equal vertices. \\n\", AVdx, \"\\n\", BVdx)        \n",
    "        \n",
    "        # Construct Triangle, i.e. the affine map from reorderd indices.\n",
    "        a,b,c = self.points[AVdx]\n",
    "        A = Triangle(a,b,c)\n",
    "        a,b,c = self.points[BVdx]\n",
    "        B = Triangle(a,b,c)\n",
    "        \n",
    "        return A, B, nEqual\n",
    "    \n",
    "class Triangle:\n",
    "    def __init__(self, a,b,c):\n",
    "        self.M = np.array([b-a, c-a]).T\n",
    "        self.det = np.abs(np.linalg.det(self.M))\n",
    "        self.E = np.array([a,b,c])\n",
    "        self.a = a\n",
    "        self.b = b\n",
    "        self.c = c\n",
    "        \n",
    "    def __call__(self, x):\n",
    "        return self.M@x + self.a\n",
    "def C(z):\n",
    "    return np.outer(z,z)\n",
    "\n",
    "def kernel(z):\n",
    "    d = np.linalg.norm(z)\n",
    "    return 1./d**3\n",
    "    #else:\n",
    "    #    print(\"Zero Division!\")\n",
    "    #    return 1.\n",
    "        \n",
    "def kernel1D(x,y):\n",
    "    z = x-y\n",
    "    d = np.linalg.norm(z)\n",
    "    if d>1e-6:\n",
    "        return 1./d\n",
    "    else:\n",
    "        print(\"Zero Division!\")\n",
    "        return 1."
   ]
  },
  {
   "cell_type": "code",
   "execution_count": 5,
   "metadata": {},
   "outputs": [
    {
     "data": {
      "image/png": "[encoded data removed]",
      "text/plain": [
       "<Figure size 432x288 with 1 Axes>"
      ]
     },
     "metadata": {
      "needs_background": "light"
     },
     "output_type": "display_data"
    }
   ],
   "source": [
    "Ansatz = V(mesh)\n",
    "Triangles = T(mesh)\n",
    "\n",
    "Ansatz.plot()"
   ]
  },
  {
   "cell_type": "markdown",
   "metadata": {},
   "source": [
    "### Scalar Kernel Integral on Disk of Radius of $\\delta$\n",
    "\n",
    "We set $\\delta = 0.3$.\n",
    "\n",
    "As warm up we simply integrate the circle weighted with the kernel for $x = (0,0)$. The analytic solution is obtained by.\n",
    "$$\n",
    "\\sum_{A \\in \\mathcal{T}} \\int_A \\frac{1}{\\|x-y\\|} dy\n",
    "$$\n",
    "Where the analytic solution is given by\n",
    "$$\n",
    "\\int_{B_{1+\\delta}} \\frac{1}{\\|z\\|} dz = \n",
    "\\int_0^{1+\\delta} \\int_0^{2\\pi} \\frac{r}{r} d\\phi dr = (1+\\delta) 2 \\pi. \n",
    "$$\n",
    "\n",
    "as the determinant of the Jacobian is $r$ for $\\phi: (r, \\phi) \\mapsto r (sin(\\phi), cos(\\phi))$ ."
   ]
  },
  {
   "cell_type": "code",
   "execution_count": 6,
   "metadata": {},
   "outputs": [
    {
     "name": "stdout",
     "output_type": "stream",
     "text": [
      "Integral\t 8.151759178074103\n",
      "True value\t 8.168140899333462\n"
     ]
    }
   ],
   "source": [
    "x = np.zeros((2,))\n",
    "integral = 0.\n",
    "\n",
    "for k in range(Triangles.N):\n",
    "    tri = Triangles[k]\n",
    "    n = dy.shape[0]\n",
    "    s = 0\n",
    "    for i in range(n):\n",
    "        y = tri.M@Py[i] + tri.a\n",
    "        s += kernel1D(x, y)*tri.det*dy[i]\n",
    "    integral += s\n",
    "print(\"Integral\\t\", integral)\n",
    "print(\"True value\\t\", 2*np.pi*(1+delta))"
   ]
  },
  {
   "cell_type": "markdown",
   "metadata": {},
   "source": [
    "### Peridynamics Kernel on Disk of Radius of $\\delta$\n",
    "\n",
    "We set $\\delta = 0.3$.\n",
    "\n",
    "Now we integrate the simplest version of the peridynamics-kernel for $x = (0,0)$. The analytic solution is obtained by.\n",
    "\n",
    "$$\n",
    "\\sum_{A \\in \\mathcal{T}} \\int_A \\frac{(x-y) \\otimes (x-y)}{\\|x-y\\|^3}  dy = \\textbf{I}\n",
    "$$\n",
    "Where the analytic solution is given by\n",
    "$$\n",
    "\\textbf{I}_{2,2} = \\textbf{I}_{1,1} = \\int_{B_{1+\\delta}} \\frac{z_1^2}{\\|z\\|} dz = \n",
    "\\int_0^{1+\\delta} \\int_0^{2\\pi} \\frac{sin^2(\\phi) r^2}{r^3}r d\\phi dr = (1+\\delta) \\int_0^{2\\pi}sin^2(\\phi) d\\phi. \n",
    "$$\n",
    "$$\n",
    "= (1+\\delta) \\left[ \\frac{1}{2}(\\phi - sin(\\phi)cos(\\phi) \\right]_0^{2\\pi} = (1+\\delta)\\pi. \n",
    "$$\n",
    "and\n",
    "$$\n",
    "\\textbf{I}_{2,1} = \\textbf{I}_{1,2} = \\int_{B_{1+\\delta}} \\frac{z_1 z_2}{\\|z\\|} dz = \n",
    "\\int_0^{1+\\delta} \\int_0^{2\\pi} \\frac{sin(\\phi)cos(\\phi) r^2}{r^3}r d\\phi dr = (1+\\delta) \\int_0^{2\\pi}sin(\\phi)cos(\\phi) d\\phi = 0. \n",
    "$$"
   ]
  },
  {
   "cell_type": "code",
   "execution_count": 7,
   "metadata": {},
   "outputs": [
    {
     "name": "stdout",
     "output_type": "stream",
     "text": [
      "Integral\n",
      " [[4.07635907e+00 7.59845636e-04]\n",
      " [7.59845636e-04 4.07540011e+00]]\n",
      "\n",
      "True value\n",
      " [[4.08407045 0.        ]\n",
      " [0.         4.08407045]]\n"
     ]
    }
   ],
   "source": [
    "x = np.zeros((2,))\n",
    "integral = 0.\n",
    "Det = np.zeros(Triangles.N)\n",
    "for k in range(Triangles.N):\n",
    "    tri = Triangles[k]\n",
    "    s = 0\n",
    "    n = dy.shape[0]\n",
    "    for i in range(n):\n",
    "        y = tri.M@Py[i] + tri.a\n",
    "        s += C(x-y)*kernel(x-y)*tri.det*dy[i]\n",
    "    integral += s\n",
    "print(\"Integral\\n\", integral)\n",
    "print(\"\\nTrue value\\n\", np.eye(2)*np.pi*(1+delta))\n"
   ]
  },
  {
   "cell_type": "markdown",
   "metadata": {},
   "source": [
    "# 4D Tensor Gauss Quadrature Rule\n",
    "\n",
    "As preparation we need a tensor gauss quadrature rule. The number of quadrature points is given in the table.\n",
    "\n",
    "Degree | #Quad Points |\n",
    "-|-|\n",
    "2      | 16    |\n",
    "4      | 256   |\n",
    "6      | 1296  |\n",
    "8      | 4096  |"
   ]
  },
  {
   "cell_type": "code",
   "execution_count": 8,
   "metadata": {},
   "outputs": [
    {
     "name": "stdout",
     "output_type": "stream",
     "text": [
      "Number of quadrature points  1296 \n",
      "\n"
     ]
    },
    {
     "data": {
      "image/png": "[encoded data removed]",
      "text/plain": [
       "<Figure size 432x288 with 1 Axes>"
      ]
     },
     "metadata": {
      "needs_background": "light"
     },
     "output_type": "display_data"
    }
   ],
   "source": [
    "# Tensor Gauss Quadrature\n",
    "class tensorgauss:\n",
    "    def __init__(self, deg, dim=4):\n",
    "        self.deg = deg\n",
    "        self.dim = 4\n",
    "        p, w = np.polynomial.legendre.leggauss(deg)\n",
    "        #print(\"Length\", len(p), \"\\np\", p, \"w\", w)\n",
    "        self.N = deg**dim\n",
    "        self.weights = np.zeros(deg**dim)\n",
    "        self.points = np.zeros((dim, deg**dim))\n",
    "        l = 0\n",
    "        k1 = 0\n",
    "        k2 = 0\n",
    "        k3 = 0\n",
    "        for l in range(deg**4):\n",
    "            k0 = l % deg\n",
    "            k1 += (not k0) and (bool(l))\n",
    "            k1 %= deg\n",
    "            k2 += (not (k1 or k0)) and (bool(l))\n",
    "            k2 %= deg\n",
    "            k3 += (not (k2 or k1 or k0)) and (bool(l))\n",
    "            self.weights[l] = w[k0]*w[k1]*w[k2]*w[k3]\n",
    "            self.points[:,l] = [p[k0], p[k1], p[k2], p[k3]]\n",
    "    #print(k0, k1, k2, k3, \"\\tw=\", \"{:03.2f}\".format(weights[l]), \"\\t\\tp = \", points[l,:])\n",
    "q = tensorgauss(6)\n",
    "print(\"Number of quadrature points \", q.N, \"\\n\")\n",
    "plt.scatter(q.points[0], q.points[1])\n",
    "plt.show()"
   ]
  },
  {
   "cell_type": "markdown",
   "metadata": {},
   "source": [
    "# Auxilliary Transform Functions\n",
    "\n",
    "The integration function needed iterates over the integral transformations required to cancle out the singularity in the kernel.\n",
    "\n",
    "### Scale\n",
    "\n",
    "Maps the box $[-1,1]^2$ to $[0,1]^2$. The determinant is $\\frac{1}{16}$.\n",
    "\n",
    "### Mirror\n",
    "\n",
    "Maps a triangle $\\left\\lbrace z | z_2 \\in [0,1], z_1 \\ in [0,z_2] \\right\\rbrace$ to the standart simplex  $\\left\\lbrace z | z_1 \\in [0,1], z_2 \\ in [0,1-z_1] \\right\\rbrace$.\n",
    "$$\n",
    "    x \\mapsto \\begin{pmatrix} 1&-1&0&0  \\\\ 0&1&0&0  \\\\  0&0&0&1  \\\\  0&0&1&-1\\end{pmatrix}x\n",
    "$$"
   ]
  },
  {
   "cell_type": "code",
   "execution_count": 9,
   "metadata": {},
   "outputs": [],
   "source": [
    "def scale(alpha):\n",
    "    return alpha*.5 + .5\n",
    "\n",
    "scaledet = .5**4\n",
    "\n",
    "def mirror(alpha):\n",
    "    A = np.array([[1.,-1.,0,0],[0.,1.,0,0], [0,0,0.,1.],[0,0,1.,-1.]])\n",
    "    #print(A)\n",
    "    return A@alpha\n",
    "mirrordet = 1."
   ]
  },
  {
   "cell_type": "markdown",
   "metadata": {},
   "source": [
    "# Integration Routine for close Neighbors\n",
    "\n",
    "The integration expects two ordered triangles (see below) a quadrature rule and list of transformation functions, and approximates the integral\n",
    "\n",
    "$$\n",
    "    \\int_A \\int_B \\frac{(x-y) \\otimes (x-y)}{\\|x-y\\|^3}  dy dx = \\textbf{I}.\n",
    "$$"
   ]
  },
  {
   "cell_type": "code",
   "execution_count": 10,
   "metadata": {},
   "outputs": [],
   "source": [
    "def integrate(A, B, q, T):\n",
    "    s = 0\n",
    "    for Tk in T:\n",
    "        for k, alpha in enumerate(q.points.T):\n",
    "            alpha = scale(alpha)\n",
    "            alpha, Tdet = Tk(alpha)\n",
    "            alpha = mirror(alpha)\n",
    "            x = A(alpha[:2])\n",
    "            y = B(alpha[2:])\n",
    "            \n",
    "            s+=C(x-y)*kernel(x-y)*scaledet*q.weights[k]*Tdet*A.det*B.det\n",
    "    return s"
   ]
  },
  {
   "cell_type": "markdown",
   "metadata": {},
   "source": [
    "# Integral $A \\cap B = \\emptyset$\n",
    "\n",
    "In this (most frequent) case the Triangles have positve distance and we can omit the quadrature given above to evaluate the double integral."
   ]
  },
  {
   "cell_type": "code",
   "execution_count": 11,
   "metadata": {},
   "outputs": [
    {
     "data": {
      "image/png": "[encoded data removed]",
      "text/plain": [
       "<Figure size 432x288 with 1 Axes>"
      ]
     },
     "metadata": {
      "needs_background": "light"
     },
     "output_type": "display_data"
    }
   ],
   "source": [
    "A = Triangles[0]\n",
    "plt.scatter(A.E[:,0], A.E[:,1])\n",
    "\n",
    "B = Triangles[4]\n",
    "plt.scatter(B.E[:,0], B.E[:,1])\n",
    "plt.show()   "
   ]
  },
  {
   "cell_type": "code",
   "execution_count": 12,
   "metadata": {},
   "outputs": [
    {
     "name": "stdout",
     "output_type": "stream",
     "text": [
      "Integral\n",
      " [[ 7.36409677e-06 -1.67302684e-05]\n",
      " [-1.67302684e-05  4.05754846e-05]]\n"
     ]
    }
   ],
   "source": [
    "nx = dx.shape[0]\n",
    "ny = dy.shape[0]\n",
    "\n",
    "integral = 0\n",
    "for k in range(nx):\n",
    "    x = A.M@Py[i] + A.a\n",
    "    for i in range(ny):\n",
    "        y = B.M@Py[i] + B.a\n",
    "        integral += C(x-y)*kernel(x-y)*B.det*A.det*dy[i]*dx[k]\n",
    "print(\"Integral\\n\", integral)"
   ]
  },
  {
   "cell_type": "markdown",
   "metadata": {},
   "source": [
    "# Transform Functions: $A \\cap B = \\emptyset$\n",
    "\n",
    "The following 2 transformations map the 4 dimensional cube into two pyramids, and are applied to the $A \\cap B = \\emptyset$ case. It is expected that the shared vertex is put into first position.\n",
    "\n",
    "We also provide a *canceled* version, which incorporates the cancelation which is obtain from the determinant and **the integration kernel**. Hence, it depends on the kernel, which is the peridynamics kernel here."
   ]
  },
  {
   "cell_type": "code",
   "execution_count": 13,
   "metadata": {},
   "outputs": [],
   "source": [
    "def T1commonVertex(alpha):\n",
    "    xi, eta1, eta2, eta3 = alpha\n",
    "    det = xi**3*eta2\n",
    "    \n",
    "    return np.array([xi, xi*eta1, xi*eta2, xi*eta2*eta3]), det\n",
    "\n",
    "def T2commonVertex(alpha):\n",
    "    xi, eta1, eta2, eta3 = alpha\n",
    "    det = xi**3*eta2\n",
    "    return np.array([xi*eta2, xi*eta2*eta3, xi, xi*eta1]), det\n",
    "\n",
    "TcommonVertex = [T1commonVertex, T2commonVertex]\n",
    "\n",
    "def T1commonVertex_canceled(alpha):\n",
    "    xi, eta1, eta2, eta3 = alpha\n",
    "    # It dependes on the kernel how many xis we lose here!\n",
    "    det = xi**2*eta2 \n",
    "    return np.array([1., eta1, eta2, eta2*eta3]), det\n",
    "\n",
    "def T2commonVertex_canceled(alpha):\n",
    "    xi, eta1, eta2, eta3 = alpha\n",
    "    # It dependes on the kernel how many xis we lose here!\n",
    "    det = xi**2*eta2\n",
    "    return np.array([eta2, eta2*eta3, 1., eta1]), det\n",
    "\n",
    "TcommonVertex_canceled = [T1commonVertex_canceled, T2commonVertex_canceled]"
   ]
  },
  {
   "cell_type": "code",
   "execution_count": 14,
   "metadata": {},
   "outputs": [
    {
     "data": {
      "image/png": "[encoded data removed]",
      "text/plain": [
       "<Figure size 432x288 with 1 Axes>"
      ]
     },
     "metadata": {
      "needs_background": "light"
     },
     "output_type": "display_data"
    },
    {
     "data": {
      "image/png": "[encoded data removed]",
      "text/plain": [
       "<Figure size 432x288 with 1 Axes>"
      ]
     },
     "metadata": {
      "needs_background": "light"
     },
     "output_type": "display_data"
    }
   ],
   "source": [
    "Beta = mirror(TcommonVertex[0](scale(q.points))[0]).T\n",
    "plt.scatter(Beta[:,0], Beta[:,1])\n",
    "#plt.scatter(q.points[:,0], q.points[:,1])\n",
    "plt.xlim((0,1))\n",
    "plt.ylim((0,1))\n",
    "plt.show()\n",
    "\n",
    "plt.scatter(Beta[:,2], Beta[:,3])\n",
    "#plt.scatter(q.points[:,0], q.points[:,1])\n",
    "plt.xlim((0,1))\n",
    "plt.ylim((0,1))\n",
    "plt.show()"
   ]
  },
  {
   "cell_type": "markdown",
   "metadata": {},
   "source": [
    "# Integral where $A \\cap B = \\{v_0\\}$\n",
    "\n",
    "In this case the Triangles share one point. The given qudrature rule still allows to integrate the triangles without zero division, however there is a singularity *at the tip of the triangles*.\n",
    "$$\n",
    "    \\int_A \\int_B \\frac{(x-y) \\otimes (x-y)}{\\|x-y\\|^3}  dy dx = \\textbf{I}\n",
    "$$\n",
    "We will use the naive integral as test case for the transformed version, as in the special case the quadrature rules do not lead to a zero division."
   ]
  },
  {
   "cell_type": "code",
   "execution_count": 15,
   "metadata": {},
   "outputs": [
    {
     "data": {
      "image/png": "[encoded data removed]",
      "text/plain": [
       "<Figure size 432x288 with 1 Axes>"
      ]
     },
     "metadata": {
      "needs_background": "light"
     },
     "output_type": "display_data"
    }
   ],
   "source": [
    "A, B, nEqual = Triangles.join(2, 224)\n",
    "\n",
    "plt.scatter(A.E[:,0], A.E[:,1])\n",
    "plt.scatter(B.E[:,0], B.E[:,1])\n",
    "plt.scatter(B.E[:nEqual,0], B.E[:nEqual,1], s = 120)\n",
    "plt.show()"
   ]
  },
  {
   "cell_type": "markdown",
   "metadata": {},
   "source": [
    "### Plot of Quadrature Rule\n",
    "\n",
    "To get a feeling only we plot the quadrature points and connect points which enter the quadrature rule together by a line."
   ]
  },
  {
   "cell_type": "code",
   "execution_count": 16,
   "metadata": {},
   "outputs": [
    {
     "data": {
      "image/png": "[encoded data removed]",
      "text/plain": [
       "<Figure size 432x288 with 1 Axes>"
      ]
     },
     "metadata": {
      "needs_background": "light"
     },
     "output_type": "display_data"
    }
   ],
   "source": [
    "q = tensorgauss(4)\n",
    "\n",
    "x_list = np.zeros((q.deg**q.dim, 2))\n",
    "y_list = np.zeros((q.deg**q.dim, 2))\n",
    "\n",
    "plt.scatter(A.E[:,0], A.E[:,1])\n",
    "plt.scatter(B.E[:,0], B.E[:,1])\n",
    "plt.scatter(B.E[:nEqual,0], B.E[:nEqual,1], s = 120)\n",
    "\n",
    "for T in TcommonVertex:\n",
    "    for k, alpha in enumerate(q.points.T):\n",
    "        alpha = scale(alpha)\n",
    "        alpha, Tdet = T(alpha)\n",
    "        alpha = mirror(alpha)\n",
    "        x = A(alpha[:2])\n",
    "        y = B(alpha[2:])\n",
    "        plt.plot([x[0],y[0]], [x[1],y[1]], alpha=.09)\n",
    "        x_list[k] = x\n",
    "        y_list[k] = y\n",
    "    \n",
    "plt.scatter(y_list[:,0], y_list[:, 1], alpha=.1)\n",
    "plt.scatter(x_list[:,0], x_list[:, 1], alpha=.1)\n",
    "    \n",
    "plt.show() "
   ]
  },
  {
   "cell_type": "markdown",
   "metadata": {},
   "source": [
    "## Comparison to naive integral"
   ]
  },
  {
   "cell_type": "code",
   "execution_count": 17,
   "metadata": {},
   "outputs": [
    {
     "name": "stdout",
     "output_type": "stream",
     "text": [
      "Naive integral\n",
      " [[1.73931981e-04 1.73598777e-05]\n",
      " [1.73598777e-05 1.52777177e-05]]\n"
     ]
    }
   ],
   "source": [
    "nx = dx.shape[0]\n",
    "ny = dy.shape[0]\n",
    "\n",
    "integral = 0\n",
    "for k in range(nx):\n",
    "    x = A.M@Px[k] + A.a\n",
    "    for i in range(ny):\n",
    "        y = B.M@Py[i] + B.a\n",
    "        integral += C(x-y)*kernel(x-y)*B.det*A.det*dy[i]*dx[k]\n",
    "    \n",
    "print(\"Naive integral\\n\", integral)"
   ]
  },
  {
   "cell_type": "code",
   "execution_count": 18,
   "metadata": {},
   "outputs": [
    {
     "name": "stdout",
     "output_type": "stream",
     "text": [
      "Transformed Integral\n",
      " [[1.73862950e-04 1.73561984e-05]\n",
      " [1.73561984e-05 1.53420062e-05]]\n"
     ]
    }
   ],
   "source": [
    "traffointegral = integrate(A, B, tensorgauss(6), TcommonVertex_canceled)\n",
    "print(\"Transformed Integral\\n\", traffointegral)"
   ]
  },
  {
   "cell_type": "markdown",
   "metadata": {},
   "source": [
    "## Another Sanity Check\n",
    "\n",
    "As another sanity check we plot for the degrees $N = 2^4$ and $n = 2^1, \\dots, 2^3$ the values\n",
    "$\n",
    "    |x_n - x_N|.\n",
    "$"
   ]
  },
  {
   "cell_type": "code",
   "execution_count": 19,
   "metadata": {},
   "outputs": [
    {
     "name": "stdout",
     "output_type": "stream",
     "text": [
      "degrees [2, 4, 6, 8] \n",
      " values [-7.84286098e-07 -3.27234004e-09 -1.99905486e-11  0.00000000e+00]\n",
      "degrees [2, 4, 6, 8] \n",
      " cancled values [-7.84286098e-07 -3.27234004e-09 -1.99905486e-11  0.00000000e+00]\n"
     ]
    },
    {
     "data": {
      "image/png": "[encoded data removed]",
      "text/plain": [
       "<Figure size 432x288 with 1 Axes>"
      ]
     },
     "metadata": {
      "needs_background": "light"
     },
     "output_type": "display_data"
    }
   ],
   "source": [
    "vals = []\n",
    "vals_canceled = []\n",
    "deglist = [2,4,6,8]#,16]\n",
    "for degree in deglist:\n",
    "    traffointegral = integrate(A, B, tensorgauss(degree), TcommonVertex)\n",
    "    traffointegral_cancled = integrate(A, B, tensorgauss(degree), TcommonVertex_canceled)\n",
    "    vals.append(traffointegral[0,0])\n",
    "    vals_canceled.append(traffointegral_cancled[0,0])\n",
    "vals = np.array(vals)\n",
    "vals -= vals[-1]\n",
    "\n",
    "vals_canceled = np.array(vals_canceled)\n",
    "vals_canceled -= vals_canceled[-1]\n",
    "\n",
    "print(\"degrees\", deglist,\"\\n values\", vals)\n",
    "print(\"degrees\", deglist,\"\\n cancled values\", vals_canceled)\n",
    "\n",
    "plt.plot(deglist[:-1], np.abs(vals[:-1]), label =\"values\" )\n",
    "plt.scatter(deglist[:-1], np.abs(vals[:-1]))\n",
    "\n",
    "plt.plot(deglist[:-1], np.abs(vals_canceled[:-1]), label =\"canceled values\" )\n",
    "plt.scatter(deglist[:-1], np.abs(vals_canceled[:-1]))\n",
    "\n",
    "plt.legend()\n",
    "plt.yscale(\"log\")\n",
    "plt.show()"
   ]
  },
  {
   "cell_type": "markdown",
   "metadata": {},
   "source": [
    "# Transform Functions: $A \\cap B = \\{ v_0, v_1 \\}$"
   ]
  },
  {
   "cell_type": "code",
   "execution_count": 20,
   "metadata": {},
   "outputs": [],
   "source": [
    "def T1commonEdge(alpha):\n",
    "    xi, eta1, eta2, eta3 = alpha\n",
    "    det = xi**3*eta1**2\n",
    "    return xi*np.array([1.,\n",
    "                        eta1*eta3,\n",
    "                        1. - eta1*eta2,\n",
    "                        eta1*(1. - eta2)\n",
    "                       ]), det\n",
    "\n",
    "def T2commonEdge(alpha):\n",
    "    xi, eta1, eta2, eta3 = alpha\n",
    "    det = xi**3*eta1**2*eta2\n",
    "    return xi*np.array([1.,\n",
    "                        eta1,\n",
    "                        1. - eta1*eta2*eta3,\n",
    "                        eta1*eta2*(1-eta3)\n",
    "                       ]), det\n",
    "\n",
    "def T3commonEdge(alpha):\n",
    "    xi, eta1, eta2, eta3 = alpha\n",
    "    det = xi**3*eta1**2*eta2\n",
    "    return xi*np.array([1.-eta1*eta2,\n",
    "                        eta1*(1.-eta2),\n",
    "                        1.,\n",
    "                        eta1*eta2*eta3\n",
    "                       ]), det\n",
    "\n",
    "def T4commonEdge(alpha):\n",
    "    xi, eta1, eta2, eta3 = alpha\n",
    "    det = xi**3*eta1**2*eta2\n",
    "    return xi*np.array([1.-eta1*eta2*eta3,\n",
    "                        eta1*eta2*(1.-eta3),\n",
    "                        1.,\n",
    "                        eta1\n",
    "                       ]), det\n",
    "\n",
    "def T5commonEdge(alpha):\n",
    "    xi, eta1, eta2, eta3 = alpha\n",
    "    det = xi**3*eta1**2*eta2\n",
    "    return xi*np.array([1.-eta1*eta2*eta3,\n",
    "                        eta1*(1. - eta2*eta3),\n",
    "                        1.,\n",
    "                        eta1*eta2\n",
    "                       ]), det\n",
    "\n",
    "TcommonEdge = [T1commonEdge, T2commonEdge, T3commonEdge, T4commonEdge, T5commonEdge]\n",
    "\n",
    "def T1commonEdge_canceled(alpha):\n",
    "    xi, eta1, eta2, eta3 = alpha\n",
    "    det = xi**2*eta1**2\n",
    "    return np.array([1.,\n",
    "                        eta1*eta3,\n",
    "                        1. - eta1*eta2,\n",
    "                        eta1*(1. - eta2)\n",
    "                       ]), det\n",
    "\n",
    "def T2commonEdge_canceled(alpha):\n",
    "    xi, eta1, eta2, eta3 = alpha\n",
    "    det = xi**2*eta1**2*eta2\n",
    "    return np.array([1.,\n",
    "                        eta1,\n",
    "                        1. - eta1*eta2*eta3,\n",
    "                        eta1*eta2*(1-eta3)\n",
    "                       ]), det\n",
    "\n",
    "def T3commonEdge_canceled(alpha):\n",
    "    xi, eta1, eta2, eta3 = alpha\n",
    "    det = xi**2*eta1**2*eta2\n",
    "    return np.array([1.-eta1*eta2,\n",
    "                        eta1*(1.-eta2),\n",
    "                        1.,\n",
    "                        eta1*eta2*eta3\n",
    "                       ]), det\n",
    "\n",
    "def T4commonEdge_canceled(alpha):\n",
    "    xi, eta1, eta2, eta3 = alpha\n",
    "    det = xi**2*eta1**2*eta2\n",
    "    return np.array([1.-eta1*eta2*eta3,\n",
    "                        eta1*eta2*(1.-eta3),\n",
    "                        1.,\n",
    "                        eta1\n",
    "                       ]), det\n",
    "\n",
    "def T5commonEdge_canceled(alpha):\n",
    "    xi, eta1, eta2, eta3 = alpha\n",
    "    det = xi**2*eta1**2*eta2\n",
    "    return np.array([1.-eta1*eta2*eta3,\n",
    "                        eta1*(1. - eta2*eta3),\n",
    "                        1.,\n",
    "                        eta1*eta2\n",
    "                       ]), det\n",
    "\n",
    "TcommonEdge_canceled = [T1commonEdge_canceled, T2commonEdge_canceled, \n",
    "                        T3commonEdge_canceled, T4commonEdge_canceled, \n",
    "                        T5commonEdge_canceled]"
   ]
  },
  {
   "cell_type": "markdown",
   "metadata": {},
   "source": [
    "### Plot of Quadrature Rule\n",
    "\n",
    "To get a feeling only we plot the quadrature points and connect points which enter the quadrature rule together by a line."
   ]
  },
  {
   "cell_type": "code",
   "execution_count": 80,
   "metadata": {},
   "outputs": [
    {
     "data": {
      "image/png": "[encoded data removed]",
      "text/plain": [
       "<Figure size 432x288 with 1 Axes>"
      ]
     },
     "metadata": {
      "needs_background": "light"
     },
     "output_type": "display_data"
    }
   ],
   "source": [
    "A, B, nEqual = Triangles.join(0,2)\n",
    "#print(A.E, \"\\n\", B.E)\n",
    "q = tensorgauss(2)\n",
    "\n",
    "x_list = np.zeros((q.deg**q.dim, 2))\n",
    "y_list = np.zeros((q.deg**q.dim, 2))\n",
    "\n",
    "plt.scatter(A.E[:,0], A.E[:,1])\n",
    "plt.scatter(B.E[:,0], B.E[:,1])\n",
    "plt.scatter(B.E[:nEqual,0], B.E[:nEqual,1], s = 120)\n",
    "\n",
    "for T in TcommonEdge:\n",
    "    for k, alpha in enumerate(q.points.T):\n",
    "        alpha = scale(alpha)\n",
    "        alpha, Tdet = T(alpha)\n",
    "        alpha = mirror(alpha)\n",
    "        x = A(alpha[:2])\n",
    "        y = B(alpha[2:])\n",
    "        plt.plot([x[0],y[0]], [x[1],y[1]], alpha=.09)\n",
    "        x_list[k] = x\n",
    "        y_list[k] = y\n",
    "    \n",
    "plt.scatter(y_list[:,0], y_list[:, 1], alpha=.1)\n",
    "plt.scatter(x_list[:,0], x_list[:, 1], alpha=.1)\n",
    "    \n",
    "plt.show() "
   ]
  },
  {
   "cell_type": "markdown",
   "metadata": {},
   "source": [
    "## Comparison to Common Vertex Integral\n",
    "\n",
    "As quadrature points do not really meet it is possible to compare the result with the transformation of the common vertex case, just as another sanity check."
   ]
  },
  {
   "cell_type": "code",
   "execution_count": 22,
   "metadata": {},
   "outputs": [
    {
     "data": {
      "text/plain": [
       "array([[1.02481193e-04, 3.31455562e-05],\n",
       "       [3.31455562e-05, 1.93030728e-04]])"
      ]
     },
     "execution_count": 22,
     "metadata": {},
     "output_type": "execute_result"
    }
   ],
   "source": [
    "traffointegral = integrate(A, B, tensorgauss(8), TcommonVertex)\n",
    "traffointegral"
   ]
  },
  {
   "cell_type": "code",
   "execution_count": 23,
   "metadata": {},
   "outputs": [
    {
     "data": {
      "text/plain": [
       "array([[1.02309796e-04, 3.30833744e-05],\n",
       "       [3.30833744e-05, 1.93206900e-04]])"
      ]
     },
     "execution_count": 23,
     "metadata": {},
     "output_type": "execute_result"
    }
   ],
   "source": [
    "traffointegral = integrate(A, B, tensorgauss(8), TcommonEdge)\n",
    "traffointegral"
   ]
  },
  {
   "cell_type": "code",
   "execution_count": 24,
   "metadata": {},
   "outputs": [
    {
     "data": {
      "text/plain": [
       "array([[1.02309796e-04, 3.30833744e-05],\n",
       "       [3.30833744e-05, 1.93206900e-04]])"
      ]
     },
     "execution_count": 24,
     "metadata": {},
     "output_type": "execute_result"
    }
   ],
   "source": [
    "traffointegral = integrate(A, B, tensorgauss(8), TcommonEdge_canceled)\n",
    "traffointegral"
   ]
  },
  {
   "cell_type": "markdown",
   "metadata": {},
   "source": [
    "# Transform Functions: $A = B $"
   ]
  },
  {
   "cell_type": "code",
   "execution_count": 25,
   "metadata": {},
   "outputs": [],
   "source": [
    "def T1identical(alpha):\n",
    "    xi, eta1, eta2, eta3 = alpha\n",
    "    det = xi**3*eta1**2*eta2\n",
    "    return xi*np.array([1., \n",
    "                         1. - eta1 + eta1*eta2,\n",
    "                         1. - eta1*eta2*eta3,\n",
    "                         1. - eta1\n",
    "                        ]), det\n",
    "def T2identical(alpha):\n",
    "    xi, eta1, eta2, eta3 = alpha\n",
    "    det = xi**3*eta1**2*eta2\n",
    "    return xi*np.array([1. - eta1*eta2*eta3, \n",
    "                         1. - eta1,\n",
    "                         1.,\n",
    "                         1. - eta1 + eta1*eta2\n",
    "                        ]), det\n",
    "def T3identical(alpha):\n",
    "    xi, eta1, eta2, eta3 = alpha\n",
    "    det = xi**3*eta1**2*eta2\n",
    "    return xi*np.array([1., \n",
    "                         eta1*(1. - eta2 + eta2*eta3),\n",
    "                         1. - eta1*eta2,\n",
    "                         eta1*(1. - eta2)\n",
    "                        ]), det\n",
    "def T4identical(alpha):\n",
    "    xi, eta1, eta2, eta3 = alpha\n",
    "    det = xi**3*eta1**2*eta2\n",
    "    return xi*np.array([1.-eta1*eta2, \n",
    "                         eta1*(1. - eta2),\n",
    "                         1.,\n",
    "                         eta1*(1. - eta2 + eta2*eta3)\n",
    "                        ]), det\n",
    "def T5identical(alpha):\n",
    "    xi, eta1, eta2, eta3 = alpha\n",
    "    det = xi**3*eta1**2*eta2\n",
    "    return xi*np.array([1.-eta1*eta2*eta3, \n",
    "                         eta1*(1. - eta2*eta3),\n",
    "                         1.,\n",
    "                         eta1*(1. - eta2)\n",
    "                        ]), det\n",
    "def T6identical(alpha):\n",
    "    xi, eta1, eta2, eta3 = alpha\n",
    "    det = xi**3*eta1**2*eta2\n",
    "    return xi*np.array([1., \n",
    "                         eta1*(1. - eta2),\n",
    "                         1. - eta1*eta2*eta3,\n",
    "                         eta1*(1. - eta2*eta3)\n",
    "                        ]), det\n",
    "\n",
    "Tidentical = [T1identical, T2identical, T3identical, T4identical, \n",
    "              T5identical, T6identical]\n",
    "\n",
    "def T1identical_canceled(alpha):\n",
    "    xi, eta1, eta2, eta3 = alpha\n",
    "    det = xi**2*eta1**2*eta2\n",
    "    return np.array([1., \n",
    "                         1. - eta1 + eta1*eta2,\n",
    "                         1. - eta1*eta2*eta3,\n",
    "                         1. - eta1\n",
    "                        ]), det\n",
    "def T2identical_canceled(alpha):\n",
    "    xi, eta1, eta2, eta3 = alpha\n",
    "    det = xi**2*eta1**2*eta2\n",
    "    return np.array([1. - eta1*eta2*eta3, \n",
    "                         1. - eta1,\n",
    "                         1.,\n",
    "                         1. - eta1 + eta1*eta2\n",
    "                        ]), det\n",
    "def T3identical_canceled(alpha):\n",
    "    xi, eta1, eta2, eta3 = alpha\n",
    "    det = xi**2*eta1**2*eta2\n",
    "    return np.array([1., \n",
    "                         eta1*(1. - eta2 + eta2*eta3),\n",
    "                         1. - eta1*eta2,\n",
    "                         eta1*(1. - eta2)\n",
    "                        ]), det\n",
    "def T4identical_canceled(alpha):\n",
    "    xi, eta1, eta2, eta3 = alpha\n",
    "    det = xi**2*eta1**2*eta2\n",
    "    return np.array([1.-eta1*eta2, \n",
    "                         eta1*(1. - eta2),\n",
    "                         1.,\n",
    "                         eta1*(1. - eta2 + eta2*eta3)\n",
    "                        ]), det\n",
    "def T5identical_canceled(alpha):\n",
    "    xi, eta1, eta2, eta3 = alpha\n",
    "    det = xi**2*eta1**2*eta2\n",
    "    return np.array([1.-eta1*eta2*eta3, \n",
    "                         eta1*(1. - eta2*eta3),\n",
    "                         1.,\n",
    "                         eta1*(1. - eta2)\n",
    "                        ]), det\n",
    "def T6identical_canceled(alpha):\n",
    "    xi, eta1, eta2, eta3 = alpha\n",
    "    det = xi**2*eta1**2*eta2\n",
    "    return np.array([1., \n",
    "                         eta1*(1. - eta2),\n",
    "                         1. - eta1*eta2*eta3,\n",
    "                         eta1*(1. - eta2*eta3)\n",
    "                        ]), det\n",
    "Tidentical_canceled = [T1identical_canceled, T2identical_canceled, T3identical_canceled, \n",
    "               T4identical_canceled, T5identical_canceled, T6identical_canceled]\n"
   ]
  },
  {
   "cell_type": "markdown",
   "metadata": {},
   "source": [
    "### Plot of Quadrature Rule"
   ]
  },
  {
   "cell_type": "code",
   "execution_count": 76,
   "metadata": {},
   "outputs": [
    {
     "name": "stdout",
     "output_type": "stream",
     "text": [
      "[[0.74154928 0.16913386]\n",
      " [0.76629709 0.09146897]\n",
      " [0.84000793 0.12954425]] \n",
      " [[0.74154928 0.16913386]\n",
      " [0.76629709 0.09146897]\n",
      " [0.84000793 0.12954425]]\n"
     ]
    },
    {
     "data": {
      "image/png": "[encoded data removed]",
      "text/plain": [
       "<Figure size 432x288 with 1 Axes>"
      ]
     },
     "metadata": {
      "needs_background": "light"
     },
     "output_type": "display_data"
    }
   ],
   "source": [
    "A, B, nEqual = Triangles.join(0,0)\n",
    "print(A.E, \"\\n\", B.E)\n",
    "q = tensorgauss(2)\n",
    "\n",
    "x_list = np.zeros((q.deg**q.dim, 2))\n",
    "y_list = np.zeros((q.deg**q.dim, 2))\n",
    "\n",
    "plt.scatter(A.E[:,0], A.E[:,1])\n",
    "plt.scatter(B.E[:,0], B.E[:,1])\n",
    "plt.scatter(B.E[:nEqual,0], B.E[:nEqual,1], s = 120)\n",
    "\n",
    "for T in Tidentical:\n",
    "    for k, alpha in enumerate(q.points.T):\n",
    "        alpha = scale(alpha)\n",
    "        alpha, Tdet = T(alpha)\n",
    "        alpha = mirror(alpha)\n",
    "        x = A(alpha[:2])\n",
    "        y = B(alpha[2:])\n",
    "        plt.plot([x[0],y[0]], [x[1],y[1]], alpha=.09)\n",
    "        x_list[k] = x\n",
    "        y_list[k] = y\n",
    "\n",
    "plt.scatter(y_list[:,0], y_list[:, 1], alpha=.1)\n",
    "plt.scatter(x_list[:,0], x_list[:, 1], alpha=.1)\n",
    "    \n",
    "plt.show() "
   ]
  },
  {
   "cell_type": "markdown",
   "metadata": {},
   "source": [
    "### Comparison to Common Edge Integral"
   ]
  },
  {
   "cell_type": "code",
   "execution_count": 73,
   "metadata": {},
   "outputs": [
    {
     "data": {
      "text/plain": [
       "array([[ 0.00025511, -0.00011175],\n",
       "       [-0.00011175,  0.00023439]])"
      ]
     },
     "execution_count": 73,
     "metadata": {},
     "output_type": "execute_result"
    }
   ],
   "source": [
    "traffointegral = integrate(A, B, tensorgauss(2), TcommonVertex)\n",
    "traffointegral"
   ]
  },
  {
   "cell_type": "code",
   "execution_count": 74,
   "metadata": {},
   "outputs": [
    {
     "data": {
      "text/plain": [
       "array([[ 2.42834698e-04, -3.19121636e-05],\n",
       "       [-3.19121636e-05,  2.69239715e-04]])"
      ]
     },
     "execution_count": 74,
     "metadata": {},
     "output_type": "execute_result"
    }
   ],
   "source": [
    "traffointegral = integrate(A, B, tensorgauss(2), Tidentical)\n",
    "traffointegral"
   ]
  },
  {
   "cell_type": "code",
   "execution_count": 75,
   "metadata": {},
   "outputs": [
    {
     "data": {
      "text/plain": [
       "array([[ 2.42834698e-04, -3.19121636e-05],\n",
       "       [-3.19121636e-05,  2.69239715e-04]])"
      ]
     },
     "execution_count": 75,
     "metadata": {},
     "output_type": "execute_result"
    }
   ],
   "source": [
    "traffointegral = integrate(A, B, tensorgauss(2), Tidentical_canceled)\n",
    "traffointegral"
   ]
  },
  {
   "cell_type": "markdown",
   "metadata": {},
   "source": [
    "# Further Checks"
   ]
  },
  {
   "cell_type": "code",
   "execution_count": 65,
   "metadata": {},
   "outputs": [],
   "source": [
    "def testKernel(z):\n",
    "    return z[0]*z[1] - z[1]*3\n",
    "\n",
    "def integrateTest(A, B, q, T):\n",
    "    s = 0\n",
    "    for Tk in T:\n",
    "        for k, alpha in enumerate(q.points.T):\n",
    "            alpha = scale(alpha)\n",
    "            alpha, Tdet = Tk(alpha)\n",
    "            alpha = mirror(alpha)\n",
    "            x = A(alpha[:2])\n",
    "            y = B(alpha[2:])\n",
    "            \n",
    "            s+=testKernel(x-y)*scaledet*q.weights[k]*Tdet*A.det*B.det\n",
    "    return s\n",
    "\n",
    "def integrateTest_classic(A, B, Px, dx, Py, dy):\n",
    "    s = 0\n",
    "    n = dx.shape[0]\n",
    "    m = dy.shape[0]\n",
    "    for i in range(n):\n",
    "        x = A.M@Px[i] + A.a\n",
    "        for j in range(m):\n",
    "            y = B.M@Py[j] + B.a\n",
    "            s += testKernel(x-y)*A.det*dy[j]*B.det*dx[i]\n",
    "    return s"
   ]
  },
  {
   "cell_type": "code",
   "execution_count": 66,
   "metadata": {},
   "outputs": [
    {
     "name": "stdout",
     "output_type": "stream",
     "text": [
      "\n",
      "\n",
      "Case Common Vertex:\t 1.5628693748823614e-06\n",
      "Classical integral:\t 1.5628693727153936e-06\n",
      "\n",
      "\n",
      "Case Common Edge:\t 1.8838288319389883e-06\n",
      "Classical integral:\t 1.8838288292303743e-06\n",
      "\n",
      "\n",
      "Case Identical Panel:\t -1.8603323280324212e-09\n",
      "Classical integral:\t -1.8603323074420197e-09\n"
     ]
    }
   ],
   "source": [
    "A, B, nEqual = Triangles.join(0, 224)\n",
    "q = tensorgauss(4)\n",
    "\n",
    "transformed = integrateTest(A, B, q, TcommonVertex)\n",
    "print(\"\\n\\nCase Common Vertex:\\t\", transformed)\n",
    "\n",
    "classic = integrateTest_classic(A, B, Px, dx, Px, dx)\n",
    "print(\"Classical integral:\\t\", classic)\n",
    "\n",
    "A, B, nEqual = Triangles.join(0, 2)\n",
    "q = tensorgauss(4)\n",
    "\n",
    "transformed = integrateTest(A, B, q, TcommonEdge)\n",
    "print(\"\\n\\nCase Common Edge:\\t\", transformed)\n",
    "\n",
    "classic = integrateTest_classic(A, B, Px, dx, Px, dx)\n",
    "print(\"Classical integral:\\t\", classic)\n",
    "\n",
    "A, B, nEqual = Triangles.join(0, 0)\n",
    "q = tensorgauss(4)\n",
    "\n",
    "transformed = integrateTest(A, B, q, Tidentical)\n",
    "print(\"\\n\\nCase Identical Panel:\\t\", transformed)\n",
    "\n",
    "classic = integrateTest_classic(A, B, Px, dx, Py, dy)\n",
    "print(\"Classical integral:\\t\", classic)"
   ]
  },
  {
   "cell_type": "markdown",
   "metadata": {},
   "source": [
    "\n"
   ]
  },
  {
   "cell_type": "code",
   "execution_count": null,
   "metadata": {},
   "outputs": [],
   "source": []
  },
  {
   "cell_type": "code",
   "execution_count": null,
   "metadata": {},
   "outputs": [],
   "source": []
  }
 ],
 "metadata": {
  "kernelspec": {
   "display_name": "Python 3",
   "language": "python",
   "name": "python3"
  },
  "language_info": {
   "codemirror_mode": {
    "name": "ipython",
    "version": 3
   },
   "file_extension": ".py",
   "mimetype": "text/x-python",
   "name": "python",
   "nbconvert_exporter": "python",
   "pygments_lexer": "ipython3",
   "version": "3.6.9"
  }
 },
 "nbformat": 4,
 "nbformat_minor": 4
}
