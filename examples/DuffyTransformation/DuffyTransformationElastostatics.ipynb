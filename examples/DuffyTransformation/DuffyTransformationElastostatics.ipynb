{
 "cells": [
  {
   "cell_type": "code",
   "execution_count": 1,
   "metadata": {},
   "outputs": [],
   "source": [
    "#import sys\n",
    "#sys.path.append(\"/home/klar/Promotion/projects/nonlocal-assembly\")"
   ]
  },
  {
   "cell_type": "markdown",
   "metadata": {},
   "source": [
    "# Setting\n",
    "\n",
    "Let $\\Omega = B_1$ and $\\Omega_I = B_{1+\\delta}\\setminus B_1$, and $\\overline{\\Omega} = \\Omega \\cup \\Omega_I$.\n",
    "We are given $n$ Ansatzfunctions\n",
    "$$\n",
    "\\Phi = (\\phi_1, \\phi_2)  \\in \\mathcal{L}(\\overline{\\Omega})^2.\n",
    "$$\n",
    "in a discretization of a 2-D Grid."
   ]
  },
  {
   "cell_type": "markdown",
   "metadata": {},
   "source": [
    "### Configuration"
   ]
  },
  {
   "cell_type": "code",
   "execution_count": 2,
   "metadata": {},
   "outputs": [],
   "source": [
    "from duffyconf import *\n",
    "import meshio\n",
    "import matplotlib.pyplot as plt\n",
    "import numpy as np"
   ]
  },
  {
   "cell_type": "code",
   "execution_count": 3,
   "metadata": {},
   "outputs": [],
   "source": [
    "mesh = meshio.read(DATA_PATH + mesh_name)"
   ]
  },
  {
   "cell_type": "markdown",
   "metadata": {},
   "source": [
    "### Ansatz function"
   ]
  },
  {
   "cell_type": "code",
   "execution_count": 4,
   "metadata": {},
   "outputs": [],
   "source": [
    "class V:\n",
    "    def __init__(self, mesh):\n",
    "        self.points = mesh.points[:,:2]\n",
    "        self.N = self.points.shape[0]\n",
    "        self.triangles = mesh.cells[1][1]\n",
    "        \n",
    "    def phi1(self, p):\n",
    "        return 1 - p[0] - p[1]\n",
    "    \n",
    "    def phi2(self, p):\n",
    "        return p[0]\n",
    "    \n",
    "    def phi3(self, p):\n",
    "        return p[1]\n",
    "    \n",
    "    def __getitem__(self, k):\n",
    "        phi = [self.phi1, self.phi2, self.phi3]\n",
    "        #n, k = index\n",
    "        return phi[k]\n",
    "    \n",
    "    def plot(self):\n",
    "        plt.scatter(self.points[:,0], self.points[:,1], s=.1)\n",
    "        plt.scatter(0,0)\n",
    "        plt.show()\n",
    "    \n",
    "class T:\n",
    "    def __init__(self, mesh):\n",
    "        self.triangles = mesh.cells[1][1]\n",
    "        self.points = mesh.points[:,:2]\n",
    "        self.N = self.triangles.shape[0]\n",
    "        self.tris = []\n",
    "        for k in range(self.N):\n",
    "            Vdx = self.triangles[k]\n",
    "            a,b,c = np.array(self.points[Vdx])\n",
    "            self.tris.append(Triangle(a,b,c))\n",
    "    def __getitem__(self, k):\n",
    "        return self.tris[k]\n",
    "    \n",
    "class Triangle:\n",
    "    def __init__(self, a,b,c):\n",
    "        self.M = np.array([b-a, c-a]).T\n",
    "        self.det = np.abs(np.linalg.det(self.M))\n",
    "        self.E = np.array([a,b,c])\n",
    "        self.a = a\n",
    "        self.b = b\n",
    "        self.c = c\n",
    "        \n",
    "    def __call__(self, x):\n",
    "        return self.M@x + self.a\n",
    "def C(z):\n",
    "    return np.outer(z,z)\n",
    "\n",
    "def kernel(x,y):\n",
    "    z = x-y\n",
    "    d = np.linalg.norm(z)\n",
    "    if d>1e-6:\n",
    "        return 1./d**3\n",
    "    else:\n",
    "        print(\"Zero Division!\")\n",
    "        return 1.\n",
    "    \n",
    "def kernel1D(x,y):\n",
    "    z = x-y\n",
    "    d = np.linalg.norm(z)\n",
    "    if d>1e-6:\n",
    "        return 1./d\n",
    "    else:\n",
    "        print(\"Zero Division!\")\n",
    "        return 1."
   ]
  },
  {
   "cell_type": "code",
   "execution_count": 5,
   "metadata": {},
   "outputs": [
    {
     "data": {
      "image/png": "[encoded data removed]",
      "text/plain": [
       "<Figure size 432x288 with 1 Axes>"
      ]
     },
     "metadata": {
      "needs_background": "light"
     },
     "output_type": "display_data"
    }
   ],
   "source": [
    "Ansatz = V(mesh)\n",
    "Triangles = T(mesh)\n",
    "\n",
    "Ansatz.plot()"
   ]
  },
  {
   "cell_type": "markdown",
   "metadata": {},
   "source": [
    "### Integral Kernel 1D\n",
    "\n",
    "We set $\\delta = 0.3$.\n",
    "\n",
    "As warm up we simply integrate the circle weighted with the kernel for $x = (0,0)$. The analytic solution is obtained by.\n",
    "$$\n",
    "\\sum_{A \\in \\mathcal{T}} \\int_A \\frac{1}{\\|x-y\\|} dy\n",
    "$$\n",
    "Where the analytic solution is given by\n",
    "$$\n",
    "\\int_{B_{1+\\delta}} \\frac{1}{\\|z\\|} dz = \n",
    "\\int_0^{1+\\delta} \\int_0^{2\\pi} \\frac{r}{r} d\\phi dr = (1+\\delta) 2 \\pi. \n",
    "$$\n",
    "\n",
    "as the determinant of the Jacobian is $r$ for $\\phi: (r, \\phi) \\mapsto r (sin(\\phi), cos(\\phi))$ ."
   ]
  },
  {
   "cell_type": "code",
   "execution_count": 6,
   "metadata": {},
   "outputs": [
    {
     "name": "stdout",
     "output_type": "stream",
     "text": [
      "Integral\t 8.151759178074103\n",
      "True value\t 8.168140899333462\n"
     ]
    }
   ],
   "source": [
    "x = np.zeros((2,))\n",
    "integral = 0.\n",
    "\n",
    "for k in range(Triangles.N):\n",
    "    tri = Triangles[k]\n",
    "    n = dy.shape[0]\n",
    "    s = 0\n",
    "    for i in range(n):\n",
    "        y = tri(Py[i])\n",
    "        s += kernel1D(x, y)*tri.det*dy[i]\n",
    "    integral += s\n",
    "print(\"Integral\\t\", integral)\n",
    "print(\"True value\\t\", 2*np.pi*(1+delta))"
   ]
  },
  {
   "cell_type": "markdown",
   "metadata": {},
   "source": [
    "### Integral Kernel 2D\n",
    "\n",
    "We set $\\delta = 0.3$.\n",
    "\n",
    "Now we integrate the simplest version of the peridynamics-kernel for $x = (0,0)$. The analytic solution is obtained by.\n",
    "\n",
    "$$\n",
    "\\sum_{A \\in \\mathcal{T}} \\int_A \\frac{(x-y) \\otimes (x-y)}{\\|x-y\\|^3}  dy = \\textbf{I}\n",
    "$$\n",
    "Where the analytic solution is given by\n",
    "$$\n",
    "\\textbf{I}_{2,2} = \\textbf{I}_{1,1} = \\int_{B_{1+\\delta}} \\frac{z_1^2}{\\|z\\|} dz = \n",
    "\\int_0^{1+\\delta} \\int_0^{2\\pi} \\frac{sin^2(\\phi) r^2}{r^3}r d\\phi dr = (1+\\delta) \\int_0^{2\\pi}sin^2(\\phi) d\\phi. \n",
    "$$\n",
    "$$\n",
    "= (1+\\delta) \\left[ \\frac{1}{2}(\\phi - sin(\\phi)cos(\\phi) \\right]_0^{2\\pi} = (1+\\delta)\\pi. \n",
    "$$\n",
    "and\n",
    "$$\n",
    "\\textbf{I}_{2,1} = \\textbf{I}_{1,2} = \\int_{B_{1+\\delta}} \\frac{z_1 z_2}{\\|z\\|} dz = \n",
    "\\int_0^{1+\\delta} \\int_0^{2\\pi} \\frac{sin(\\phi)cos(\\phi) r^2}{r^3}r d\\phi dr = (1+\\delta) \\int_0^{2\\pi}sin(\\phi)cos(\\phi) d\\phi = 0. \n",
    "$$"
   ]
  },
  {
   "cell_type": "code",
   "execution_count": 7,
   "metadata": {},
   "outputs": [
    {
     "name": "stdout",
     "output_type": "stream",
     "text": [
      "Integral\n",
      " [[4.07635907e+00 7.59845636e-04]\n",
      " [7.59845636e-04 4.07540011e+00]]\n",
      "\n",
      "True value\n",
      " [[4.08407045 0.        ]\n",
      " [0.         4.08407045]]\n"
     ]
    }
   ],
   "source": [
    "x = np.zeros((2,))\n",
    "integral = 0.\n",
    "Det = np.zeros(Triangles.N)\n",
    "for k in range(Triangles.N):\n",
    "    tri = Triangles[k]\n",
    "    s = 0\n",
    "    n = dy.shape[0]\n",
    "    for i in range(n):\n",
    "        y = tri(Py[i])\n",
    "        s += C(x-y)*kernel(x, y)*tri.det*dy[i]\n",
    "    integral += s\n",
    "print(\"Integral\\n\", integral)\n",
    "print(\"\\nTrue value\\n\", np.eye(2)*np.pi*(1+delta))"
   ]
  },
  {
   "cell_type": "markdown",
   "metadata": {},
   "source": [
    "### Double Integral where $A \\cap B = \\emptyset$\n",
    "\n",
    "In this (most frequent) case the Triangles have positve distance and we can use the quadrature given above to evaluate the double integral\n",
    "$$\n",
    "    \\int_A \\int_B \\frac{(x-y) \\otimes (x-y)}{\\|x-y\\|^3}  dy dx = \\textbf{I}\n",
    "$$"
   ]
  },
  {
   "cell_type": "code",
   "execution_count": 8,
   "metadata": {},
   "outputs": [
    {
     "data": {
      "image/png": "[encoded data removed]",
      "text/plain": [
       "<Figure size 432x288 with 1 Axes>"
      ]
     },
     "metadata": {
      "needs_background": "light"
     },
     "output_type": "display_data"
    }
   ],
   "source": [
    "A = Triangles[0]\n",
    "plt.scatter(A.E[:,0], A.E[:,1])\n",
    "\n",
    "B = Triangles[4]\n",
    "plt.scatter(B.E[:,0], B.E[:,1])\n",
    "plt.show()   "
   ]
  },
  {
   "cell_type": "code",
   "execution_count": 9,
   "metadata": {},
   "outputs": [
    {
     "name": "stdout",
     "output_type": "stream",
     "text": [
      "Integral\n",
      " [[ 1.10826805e-05 -1.93706756e-05]\n",
      " [-1.93706756e-05  3.62027571e-05]]\n",
      "\n",
      "True value\n",
      " ??\n"
     ]
    }
   ],
   "source": [
    "nx = dx.shape[0]\n",
    "ny = dy.shape[0]\n",
    "\n",
    "integral = 0\n",
    "for k in range(nx):\n",
    "    x = A(Px[k])\n",
    "    for i in range(ny):\n",
    "        y = B(Py[i])\n",
    "        integral += C(x-y)*kernel(x, y)*B.det*A.det*dy[i]*dx[k]\n",
    "    \n",
    "print(\"Integral\\n\", integral)\n",
    "print(\"\\nTrue value\\n ??\")"
   ]
  },
  {
   "cell_type": "markdown",
   "metadata": {},
   "source": [
    "### Double Integral where $A \\cap B = \\{v_0\\}$\n",
    "\n",
    "In this case the Triangles share one point. The given qudrature rule still allows to integrate the triangles without zero division, however there is a singularity *at the tip of the triangles*.\n",
    "$$\n",
    "    \\int_A \\int_B \\frac{(x-y) \\otimes (x-y)}{\\|x-y\\|^3}  dy dx = \\textbf{I}\n",
    "$$\n",
    "We will use the naive integral as test case for the transformed version."
   ]
  },
  {
   "cell_type": "code",
   "execution_count": 10,
   "metadata": {},
   "outputs": [
    {
     "data": {
      "image/png": "[encoded data removed]",
      "text/plain": [
       "<Figure size 432x288 with 1 Axes>"
      ]
     },
     "metadata": {
      "needs_background": "light"
     },
     "output_type": "display_data"
    }
   ],
   "source": [
    "A = Triangles[0]\n",
    "plt.scatter(A.E[:,0], A.E[:,1])\n",
    "B = Triangles[224]\n",
    "plt.scatter(B.E[:,0], B.E[:,1])\n",
    "plt.show()"
   ]
  },
  {
   "cell_type": "code",
   "execution_count": 11,
   "metadata": {},
   "outputs": [
    {
     "name": "stdout",
     "output_type": "stream",
     "text": [
      "Integral\n",
      " [[ 1.36128942e-04 -4.48901554e-05]\n",
      " [-4.48901554e-05  3.01923539e-05]]\n",
      "\n",
      "True value\n",
      " ??\n"
     ]
    }
   ],
   "source": [
    "nx = dx.shape[0]\n",
    "ny = dy.shape[0]\n",
    "\n",
    "integral = 0\n",
    "for k in range(nx):\n",
    "    x = A(Px[k])\n",
    "    for i in range(ny):\n",
    "        y = B(Py[i])\n",
    "        integral += C(x-y)*kernel(x, y)*B.det*A.det*dy[i]*dx[k]\n",
    "    \n",
    "print(\"Integral\\n\", integral)\n",
    "print(\"\\nTrue value\\n ??\")"
   ]
  },
  {
   "cell_type": "markdown",
   "metadata": {},
   "source": [
    "### Double Integral where $A \\cap B = \\{v_0, v_1\\}$\n",
    "\n",
    "This case is more interesting..."
   ]
  },
  {
   "cell_type": "code",
   "execution_count": 12,
   "metadata": {},
   "outputs": [
    {
     "data": {
      "image/png": "[encoded data removed]",
      "text/plain": [
       "<Figure size 432x288 with 1 Axes>"
      ]
     },
     "metadata": {
      "needs_background": "light"
     },
     "output_type": "display_data"
    }
   ],
   "source": [
    "A = Triangles[0]\n",
    "plt.scatter(A.E[:,0], A.E[:,1])\n",
    "\n",
    "B = Triangles[2]\n",
    "plt.scatter(B.E[:,0], B.E[:,1])\n",
    "plt.show() "
   ]
  },
  {
   "cell_type": "code",
   "execution_count": null,
   "metadata": {},
   "outputs": [],
   "source": []
  }
 ],
 "metadata": {
  "kernelspec": {
   "display_name": "Python 3",
   "language": "python",
   "name": "python3"
  },
  "language_info": {
   "codemirror_mode": {
    "name": "ipython",
    "version": 3
   },
   "file_extension": ".py",
   "mimetype": "text/x-python",
   "name": "python",
   "nbconvert_exporter": "python",
   "pygments_lexer": "ipython3",
   "version": "3.6.9"
  }
 },
 "nbformat": 4,
 "nbformat_minor": 4
}
