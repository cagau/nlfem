{
 "cells": [
  {
   "cell_type": "code",
   "execution_count": 1,
   "metadata": {},
   "outputs": [],
   "source": [
    "#import sys\n",
    "#sys.path.append(\"/home/klar/Promotion/projects/nonlocal-assembly\")"
   ]
  },
  {
   "cell_type": "markdown",
   "metadata": {},
   "source": [
    "# Setting\n",
    "\n",
    "Let $\\Omega = B_1$ and $\\Omega_I = B_{1+\\delta}\\setminus B_1$, and $\\overline{\\Omega} = \\Omega \\cup \\Omega_I$.\n",
    "We are given $n$ Ansatzfunctions\n",
    "$$\n",
    "\\Phi = (\\phi_1, \\phi_2)  \\in \\mathcal{L}(\\overline{\\Omega})^2.\n",
    "$$\n",
    "in a discretization of a 2-D Grid."
   ]
  },
  {
   "cell_type": "markdown",
   "metadata": {},
   "source": [
    "### Configuration"
   ]
  },
  {
   "cell_type": "code",
   "execution_count": 2,
   "metadata": {},
   "outputs": [],
   "source": [
    "from duffyconf import *\n",
    "import meshio\n",
    "import matplotlib.pyplot as plt\n",
    "import numpy as np"
   ]
  },
  {
   "cell_type": "code",
   "execution_count": 3,
   "metadata": {},
   "outputs": [],
   "source": [
    "mesh = meshio.read(DATA_PATH + mesh_name)"
   ]
  },
  {
   "cell_type": "markdown",
   "metadata": {},
   "source": [
    "### Ansatz function"
   ]
  },
  {
   "cell_type": "code",
   "execution_count": 28,
   "metadata": {},
   "outputs": [],
   "source": [
    "class V:\n",
    "    def __init__(self, mesh):\n",
    "        self.points = mesh.points[:,:2]\n",
    "        self.N = self.points.shape[0]\n",
    "        self.triangles = mesh.cells[1][1]\n",
    "        \n",
    "    def phi1(self, p):\n",
    "        return 1 - p[0] - p[1]\n",
    "    \n",
    "    def phi2(self, p):\n",
    "        return p[0]\n",
    "    \n",
    "    def phi3(self, p):\n",
    "        return p[1]\n",
    "    \n",
    "    def __getitem__(self, k):\n",
    "        phi = [self.phi1, self.phi2, self.phi3]\n",
    "        #n, k = index\n",
    "        return phi[k]\n",
    "    \n",
    "    def plot(self):\n",
    "        plt.scatter(self.points[:,0], self.points[:,1], s=.1)\n",
    "        plt.scatter(0,0)\n",
    "        plt.show()\n",
    "    \n",
    "class T:\n",
    "    def __init__(self, mesh):\n",
    "        self.triangles = mesh.cells[1][1]\n",
    "        self.points = mesh.points[:,:2]\n",
    "        self.N = self.triangles.shape[0]\n",
    "        self.tris = []\n",
    "        for k in range(self.N):\n",
    "            Vdx = self.triangles[k]\n",
    "            a,b,c = np.array(self.points[Vdx])\n",
    "            self.tris.append(Triangle(a,b,c))\n",
    "    def __getitem__(self, k):\n",
    "        return self.tris[k]\n",
    "    \n",
    "class Triangle:\n",
    "    def __init__(self, a,b,c):\n",
    "        self.M = np.array([b-a, c-a]).T\n",
    "        self.det = np.abs(np.linalg.det(self.M))\n",
    "        self.E = np.array([a,b,c])\n",
    "        self.a = a\n",
    "        self.b = b\n",
    "        self.c = c\n",
    "        \n",
    "    def __call__(self, x):\n",
    "        return self.M@x + self.a\n",
    "  \n",
    "def integrate(x, dy, Py, ker, tri):\n",
    "    n = dy.shape[0]\n",
    "    s = 0#np.zeros((2,2))\n",
    "    for k in range(n):\n",
    "        y = tri(Py[k])\n",
    "        #print(x, y)\n",
    "        #raise KeyboardInterrupt\n",
    "        s += ker(x, y)*tri.det*dy[k]#*np.outer(x-y,x-y)\n",
    "    return s\n",
    "\n",
    "def kernel(x,y):\n",
    "    z = x-y\n",
    "    d = np.linalg.norm(z)\n",
    "    if d>1e-6:\n",
    "        return 1./d#**3\n",
    "    else:\n",
    "        print(\"Zero Division!\")\n",
    "        return 1."
   ]
  },
  {
   "cell_type": "markdown",
   "metadata": {},
   "source": [
    "### Integral\n",
    "\n",
    "We set $\\delta = 0.3$.\n",
    "\n",
    "As warm up we simply integrate the circle weighted with the kernel for $x = (0,0)$. The analytic solution is obtained by.\n",
    "$$\n",
    "\\sum_{A \\in \\mathcal{T}} \\int_A \\frac{1}{\\|y\\|} dy\n",
    "$$\n",
    "Where the analytic solution is given by\n",
    "\n",
    "$$\n",
    "\\int_{B_{1+\\delta}} \\frac{1}{\\|y\\|} dy = \n",
    "\\int_0^{1+\\delta} \\int_0^{2\\pi} \\frac{r}{r} d\\phi dr = (1+\\delta) 2 \\pi. \n",
    "$$\n",
    "as the determinant of the Jacobian is $r$ for $\\phi: (r, \\phi) \\mapsto r (sin(\\phi), cos(\\phi))$ ."
   ]
  },
  {
   "cell_type": "code",
   "execution_count": 33,
   "metadata": {},
   "outputs": [
    {
     "name": "stdout",
     "output_type": "stream",
     "text": [
      "Integral\t 8.151759178074103\n",
      "True value\t 8.168140899333462\n"
     ]
    }
   ],
   "source": [
    "Ansatz = V(mesh)\n",
    "Triangles = T(mesh)\n",
    "\n",
    "x = np.zeros((2,))\n",
    "integral = 0.\n",
    "Det = np.zeros(Triangles.N)\n",
    "for k in range(Triangles.N):\n",
    "    tri = Triangles[k]\n",
    "    integral += integrate(x, dy, Py, kernel, tri)\n",
    "print(\"Integral\\t\", integral)\n",
    "print(\"True value\\t\", 2*np.pi*(1+delta))"
   ]
  },
  {
   "cell_type": "code",
   "execution_count": null,
   "metadata": {},
   "outputs": [],
   "source": []
  },
  {
   "cell_type": "code",
   "execution_count": null,
   "metadata": {},
   "outputs": [],
   "source": []
  },
  {
   "cell_type": "code",
   "execution_count": null,
   "metadata": {},
   "outputs": [],
   "source": []
  },
  {
   "cell_type": "code",
   "execution_count": null,
   "metadata": {},
   "outputs": [],
   "source": []
  },
  {
   "cell_type": "code",
   "execution_count": null,
   "metadata": {},
   "outputs": [],
   "source": []
  },
  {
   "cell_type": "code",
   "execution_count": null,
   "metadata": {},
   "outputs": [],
   "source": []
  }
 ],
 "metadata": {
  "kernelspec": {
   "display_name": "Python 3",
   "language": "python",
   "name": "python3"
  },
  "language_info": {
   "codemirror_mode": {
    "name": "ipython",
    "version": 3
   },
   "file_extension": ".py",
   "mimetype": "text/x-python",
   "name": "python",
   "nbconvert_exporter": "python",
   "pygments_lexer": "ipython3",
   "version": "3.6.9"
  }
 },
 "nbformat": 4,
 "nbformat_minor": 4
}
