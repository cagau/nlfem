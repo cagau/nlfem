{
 "cells": [
  {
   "cell_type": "markdown",
   "metadata": {},
   "source": [
    "# Setting\n",
    "\n",
    "Let $\\Omega = B_1$ and $\\Omega_I = B_{1+\\delta}\\setminus B_1$, and $\\overline{\\Omega} = \\Omega \\cup \\Omega_I$.\n",
    "We are given $n$ Ansatzfunctions\n",
    "$$\n",
    "\\Phi = (\\phi_1, \\phi_2)  \\in \\mathcal{L}(\\overline{\\Omega})^2.\n",
    "$$\n",
    "in a discretization of a 2-D Grid."
   ]
  },
  {
   "cell_type": "code",
   "execution_count": 1,
   "metadata": {},
   "outputs": [],
   "source": [
    "import meshio"
   ]
  },
  {
   "cell_type": "code",
   "execution_count": null,
   "metadata": {},
   "outputs": [],
   "source": []
  }
 ],
 "metadata": {
  "kernelspec": {
   "display_name": "Python 3",
   "language": "python",
   "name": "python3"
  },
  "language_info": {
   "codemirror_mode": {
    "name": "ipython",
    "version": 3
   },
   "file_extension": ".py",
   "mimetype": "text/x-python",
   "name": "python",
   "nbconvert_exporter": "python",
   "pygments_lexer": "ipython3",
   "version": "3.6.9"
  }
 },
 "nbformat": 4,
 "nbformat_minor": 2
}
