{
 "cells": [
  {
   "cell_type": "markdown",
   "metadata": {},
   "source": [
    "\n",
    "           This uses the \"line intersecting a circle\" algorithm\n",
    "           from:\n",
    "\n",
    "               Vince, John.  *Geometry for Computer Graphics: Formulae,\n",
    "               Examples & Proofs.*  London: Springer-Verlag, 2005."
   ]
  },
  {
   "cell_type": "code",
   "execution_count": 8,
   "metadata": {},
   "outputs": [],
   "source": [
    "#!/home/klar/.venv/bin/python3\n",
    "#-*- coding:utf-8 -*-\n",
    "import numpy as np\n",
    "import matplotlib.pyplot as plt\n",
    "from matplotlib.backends.backend_pdf import PdfPages\n",
    "from numpy.linalg import norm, solve\n",
    "import pickle as pkl\n",
    "import matplotlib.pyplot as plt\n",
    "import time\n",
    "from conf import mesh_name, delta, ansatz, py_P, weights, SOLVE\n",
    "from nlocal import Mesh#, assemble # Mesh class\n",
    "from aux import filename\n",
    "from plot import plot\n",
    "from assemble import assemble\n",
    "from scipy.interpolate import griddata"
   ]
  },
  {
   "cell_type": "code",
   "execution_count": 22,
   "metadata": {},
   "outputs": [],
   "source": [
    "def plot(x_center, delta, TE, RD, fnm= \"test\"):\n",
    "   \n",
    "    pp = PdfPages(fnm + \".pdf\")\n",
    "    ax = plt.gca()\n",
    "    plt.gca().set_aspect('equal')\n",
    "    grid = np.arange(-1 - delta, 1 + delta, delta)\n",
    "    plt.yticks(grid)\n",
    "    plt.xticks(grid)\n",
    "    #plt.grid(True, color='black', lw=0.1, alpha=.6)\n",
    "    # Circle and Center\n",
    "    plt.scatter(x_center[0], x_center[1], s=1, c=\"blue\")\n",
    "    circ = plt.Circle(x_center, delta, fill=False, color=\"b\",lw=.1, alpha=.7)\n",
    "    ax.add_artist(circ)\n",
    "\n",
    "    if RD.size >0:\n",
    "        plt.scatter(RD[:,0], RD[:,1], s=5)\n",
    "\n",
    "    plt.scatter(TE[:,0], TE[:,1], s=3, c=\"red\")\n",
    "    plt.plot(TE[:,0], TE[:,1], color=\"red\")\n",
    "    \n",
    "    plt.savefig(pp, format='pdf')\n",
    "    plt.close()\n",
    "\n",
    "    pp.close()\n"
   ]
  },
  {
   "cell_type": "code",
   "execution_count": 25,
   "metadata": {},
   "outputs": [],
   "source": [
    "np.random.seed(1)\n",
    "x_center = np.array([.3,.7])\n",
    "#x_center = np.ones(2)\n",
    "# Fetch some Triangle Close by\n",
    "TE = np.array([[0,0],[0,1],[1,1]])\n",
    "delta = .4\n",
    "dist = lambda x,y: np.linalg.norm(x-y)"
   ]
  },
  {
   "cell_type": "code",
   "execution_count": 45,
   "metadata": {},
   "outputs": [
    {
     "name": "stdout",
     "output_type": "stream",
     "text": [
      "-5.551115123125783e-17\n"
     ]
    }
   ],
   "source": [
    "def directed_normal(orth, direction):\n",
    "    v = np.ones(2)\n",
    "    if orth[0]==0:\n",
    "        v[1]=0\n",
    "        v = v/np.linalg.norm(v)\n",
    "        sign = np.sign(direction @ v)\n",
    "        return v*sign\n",
    "    else:\n",
    "        v[0] = -orth[1]/orth[0]\n",
    "        v = v/np.linalg.norm(v)\n",
    "        sign = np.sign(direction @ v)\n",
    "        return v*sign\n",
    "x = np.random.rand(2)\n",
    "v = directed_normal(x, np.ones(2))\n",
    "print(x@v)"
   ]
  },
  {
   "cell_type": "code",
   "execution_count": 47,
   "metadata": {},
   "outputs": [],
   "source": [
    "RD = []\n",
    "on_edge = False\n",
    "first_on_edge = 1\n",
    "\n",
    "for k in range(3):\n",
    "    edg0 = k\n",
    "    edg1 = (k+1) % 3\n",
    "    \n",
    "    p = TE[edg0]\n",
    "    q = TE[edg1]\n",
    "    a = q - x_center\n",
    "    b = p-q\n",
    "    \n",
    "    v = (a@b)**2 - (a@a - delta**2)*(b@b)\n",
    "    #print(v)\n",
    "    \n",
    "    if (v>=0):\n",
    "        term1 = -a@b/(b@b)\n",
    "        term2 = np.sqrt(v) / (b@b)\n",
    "        lam1 = term1 + term2\n",
    "        lam2 = term1 - term2\n",
    "        \n",
    "        y1 = lam1*(p-q) + q\n",
    "        y2 = lam2*(p-q) + q\n",
    "        \n",
    "        if dist(p, x_center) <= delta:\n",
    "            RD.append(p)\n",
    "            on_edge = False\n",
    "        if 0 <= lam1 <= 1:\n",
    "            first_on_edge *= len(RD)\n",
    "            if on_edge:\n",
    "                y0 = RD[-1]\n",
    "                s = y0/2 + y1/2\n",
    "                s_direction = directed_normal(y1-y0, p)\n",
    "                #s_scaling = scale_toCircle(x_center, )\n",
    "                RD.append(s+ s_direction*.1)\n",
    "            RD.append(y1)\n",
    "            on_edge = True\n",
    "        if (0 <= lam2 <= 1) and (lam1 != lam2):\n",
    "            first_on_edge *= len(RD)\n",
    "            if on_edge:\n",
    "                y0 = RD[-1]\n",
    "                s = y0/2 + y2/2\n",
    "                RD.append(s)\n",
    "            RD.append(y2)\n",
    "            on_edge = True\n",
    "if on_edge and first_on_edge==0:\n",
    "    s = RD[-1]/2+RD[0]/2\n",
    "    RD.append(s)\n",
    "#print(RD)\n",
    "plot(x_center, delta, TE, np.array(RD), \"Retriangulate\")"
   ]
  },
  {
   "cell_type": "code",
   "execution_count": 12,
   "metadata": {},
   "outputs": [
    {
     "data": {
      "image/png": "[encoded data removed]",
      "text/plain": [
       "<Figure size 432x288 with 1 Axes>"
      ]
     },
     "metadata": {
      "needs_background": "light"
     },
     "output_type": "display_data"
    }
   ],
   "source": [
    "import matplotlib.pyplot as plt\n",
    "plt.scatter(py_P[:,0], py_P[:,1])\n",
    "for k in range(len(py_P)):\n",
    "    plt.annotate(k, py_P[k])\n",
    "plt.show()"
   ]
  },
  {
   "cell_type": "code",
   "execution_count": null,
   "metadata": {},
   "outputs": [],
   "source": []
  },
  {
   "cell_type": "code",
   "execution_count": null,
   "metadata": {},
   "outputs": [],
   "source": []
  }
 ],
 "metadata": {
  "kernelspec": {
   "display_name": "Python 3",
   "language": "python",
   "name": "python3"
  },
  "language_info": {
   "codemirror_mode": {
    "name": "ipython",
    "version": 3
   },
   "file_extension": ".py",
   "mimetype": "text/x-python",
   "name": "python",
   "nbconvert_exporter": "python",
   "pygments_lexer": "ipython3",
   "version": "3.6.9"
  }
 },
 "nbformat": 4,
 "nbformat_minor": 2
}
